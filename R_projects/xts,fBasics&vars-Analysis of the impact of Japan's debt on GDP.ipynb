{
 "cells": [
  {
   "cell_type": "markdown",
   "id": "652f1c50",
   "metadata": {},
   "source": [
    "# Analysis of the impact of Japan's debt on economic development - created as part of the defense of the master thesis.\n",
    "\n",
    "The study of the impact of government debt on economic growth in Japan will focus on a direct comparison of the interplay between the two variables. For this purpose, research will be carried out based on testing the cointegration, causality of variables and their mutual response to shocks. The analysis will cover the years 1994–2018. Historical data provided by the FRED database will be used in it. Indicators and graphs will be made using the environment for statistical calculations and visualization of results - R studio.\n",
    "The table below presents the analyzed data, ie the volume of public debt and economic growth in the years 1994–2018. It should be noted that data for debt from 2018 have not been officially published until the research was conducted. They are therefore a forecast and, like the rest, were provided by the FRED database."
   ]
  },
  {
   "cell_type": "markdown",
   "id": "191bdcfb",
   "metadata": {},
   "source": [
    "First we are installing necessary packages :"
   ]
  },
  {
   "cell_type": "code",
   "execution_count": null,
   "id": "f5fce6ba",
   "metadata": {},
   "outputs": [],
   "source": [
    "#install.packages(c(\"xts\",\"fBasics\",\"vars\"))\n",
    "library(xts) \n",
    "library(fBasics) \n",
    "library(vars)"
   ]
  },
  {
   "cell_type": "markdown",
   "id": "70ae3b38",
   "metadata": {},
   "source": [
    "Then importing data from csv files downloaded from FRED database :"
   ]
  },
  {
   "cell_type": "code",
   "execution_count": 24,
   "id": "ff77fe56",
   "metadata": {},
   "outputs": [
    {
     "data": {
      "text/html": [
       "<table>\n",
       "<thead><tr><th scope=col>DATE</th><th scope=col>GGGDTAJPA188N</th></tr></thead>\n",
       "<tbody>\n",
       "\t<tr><td>1994-01-01</td><td> 84.992   </td></tr>\n",
       "\t<tr><td>1995-01-01</td><td> 95.898   </td></tr>\n",
       "\t<tr><td>1996-01-01</td><td>101.034   </td></tr>\n",
       "</tbody>\n",
       "</table>\n"
      ],
      "text/latex": [
       "\\begin{tabular}{r|ll}\n",
       " DATE & GGGDTAJPA188N\\\\\n",
       "\\hline\n",
       "\t 1994-01-01 &  84.992   \\\\\n",
       "\t 1995-01-01 &  95.898   \\\\\n",
       "\t 1996-01-01 & 101.034   \\\\\n",
       "\\end{tabular}\n"
      ],
      "text/markdown": [
       "\n",
       "| DATE | GGGDTAJPA188N |\n",
       "|---|---|\n",
       "| 1994-01-01 |  84.992    |\n",
       "| 1995-01-01 |  95.898    |\n",
       "| 1996-01-01 | 101.034    |\n",
       "\n"
      ],
      "text/plain": [
       "  DATE       GGGDTAJPA188N\n",
       "1 1994-01-01  84.992      \n",
       "2 1995-01-01  95.898      \n",
       "3 1996-01-01 101.034      "
      ]
     },
     "metadata": {},
     "output_type": "display_data"
    },
    {
     "data": {
      "text/html": [
       "<table>\n",
       "<thead><tr><th scope=col>DATE</th><th scope=col>GDP</th></tr></thead>\n",
       "<tbody>\n",
       "\t<tr><td>1994-01-01</td><td>501555.7  </td></tr>\n",
       "\t<tr><td>1995-01-01</td><td>512471.2  </td></tr>\n",
       "\t<tr><td>1996-01-01</td><td>525835.5  </td></tr>\n",
       "</tbody>\n",
       "</table>\n"
      ],
      "text/latex": [
       "\\begin{tabular}{r|ll}\n",
       " DATE & GDP\\\\\n",
       "\\hline\n",
       "\t 1994-01-01 & 501555.7  \\\\\n",
       "\t 1995-01-01 & 512471.2  \\\\\n",
       "\t 1996-01-01 & 525835.5  \\\\\n",
       "\\end{tabular}\n"
      ],
      "text/markdown": [
       "\n",
       "| DATE | GDP |\n",
       "|---|---|\n",
       "| 1994-01-01 | 501555.7   |\n",
       "| 1995-01-01 | 512471.2   |\n",
       "| 1996-01-01 | 525835.5   |\n",
       "\n"
      ],
      "text/plain": [
       "  DATE       GDP     \n",
       "1 1994-01-01 501555.7\n",
       "2 1995-01-01 512471.2\n",
       "3 1996-01-01 525835.5"
      ]
     },
     "metadata": {},
     "output_type": "display_data"
    }
   ],
   "source": [
    "debt<-read.csv(\"debt.csv\",header=TRUE)\n",
    "gdp<-read.csv(\"gdp.csv\", header=TRUE)\n",
    "\n",
    "head(debt, n=3) \n",
    "head(gdp, n=3)"
   ]
  },
  {
   "cell_type": "markdown",
   "id": "09a4a2ad",
   "metadata": {},
   "source": [
    "Combining data into one frame, creating new columns with logarithmic values & changing column names :"
   ]
  },
  {
   "cell_type": "code",
   "execution_count": null,
   "id": "8007fa56",
   "metadata": {},
   "outputs": [],
   "source": [
    "data.xts<-list()\n",
    "data.xts[[1]]<-xts(debt$GGGDTAJPA188N,order.by=as.Date(debt$DATE))\n",
    "data.xts[[2]]<-xts(gdp$GDP,order.by=as.Date(gdp$DATE))\n",
    "data.xts<-Reduce(merge,data.xts)\n",
    "colnames(data.xts)<-c(\"debt\",\"gdp\")\n",
    "data.log<-log(data.xts)\n",
    "data.full<-merge(data.xts,data.log)\n",
    "colnames(data.full)<-c(\"debt\",\"gdp\",\"debt_log\",\"gdp_log\")\n",
    "opisowe<-basicStats(data.full)\n",
    "# write.csv2(opisowe,\"opisowe.csv\") - line were used to create a separate csv file with descriptive characteristics that were \n",
    "# needed in another part of the thesis, not require to run "
   ]
  },
  {
   "cell_type": "markdown",
   "id": "91715be1",
   "metadata": {},
   "source": [
    "Dividing an area into two rows and two columns, performing unit root tests on variable values, performing unit element tests for the first differences & creating some basic plots used in thesis "
   ]
  },
  {
   "cell_type": "code",
   "execution_count": null,
   "id": "91f690c1",
   "metadata": {},
   "outputs": [],
   "source": [
    "par(mfrow=c(2,2))\n",
    "for( i in 1:4){\n",
    "print(plot(data.full[,i],main=colnames(data.full[,i])))\n",
    "}\n",
    "\n",
    "for(i in 1:4){\n",
    "print(summary(ur.df(data.full[,i],type=\"none\",lags=1)))  \n",
    "}\n",
    "\n",
    "for(i in 1:4){\n",
    "  print(summary(ur.df(na.omit(diff(data.full))[,i],type=\"none\",lags=1)))  \n",
    "}"
   ]
  },
  {
   "cell_type": "markdown",
   "id": "ee0b7ba8",
   "metadata": {},
   "source": [
    "### Study of the cointegration between debt and economic growth\n",
    "\n",
    "At the moment when the hypothesis of non-stationarity between the studied variables has been excluded, the study of cointegration can be started. The null hypothesis about the lack of cointegrating relations (r = 0) is tested, in favor of the alternative about the existence of one or more cointegrating relations (r = 1).\n",
    "For this purpose, the \"ca.jo\" function of the R packet was used, which performs the Johansen procedure on a given data set."
   ]
  },
  {
   "cell_type": "code",
   "execution_count": null,
   "id": "18fda383",
   "metadata": {},
   "outputs": [],
   "source": [
    "summary(ca.jo(data.full[,1:2],ecdet=\"none\",K=2,spec=\"longrun\"))\n",
    "\n",
    "data.diff<-diff(data.full[,1:2]) # analysis of short-term mechanisms,& calculation of the first differences"
   ]
  },
  {
   "cell_type": "markdown",
   "id": "6f7fd9ff",
   "metadata": {},
   "source": [
    "The test statistic is 4.97 and the critical values respectively:\n",
    "• 12.91 (for the significance level 0.1),\n",
    "• 14.90 (for a significance level of 0.05)\n",
    "• 19.19 (for the significance level 0.01)\n",
    "Due to the fact that the test value is lower than the critical values, the null hypothesis about the lack of cointegrating relations between the examined variables cannot be rejected. We can conclude that in the long run, indebtedness has no effect on economic development.\n",
    "It was possible to observe this already at the level of the chart analysis, where, for example, in 2009 the debt increased at a constant pace, while the nominal value of GDP decreased."
   ]
  },
  {
   "cell_type": "markdown",
   "id": "2d3b5745",
   "metadata": {},
   "source": [
    "### Granger causality analysis\n",
    "\n",
    "The next step is to run a Granger causality test. The causality test requires a first-order estimation of the VAR model to then determine causality. The casuality() function of the R studio package was used for this."
   ]
  },
  {
   "cell_type": "code",
   "execution_count": null,
   "id": "c35341f7",
   "metadata": {},
   "outputs": [],
   "source": [
    "model.var<-VAR(na.omit(data.diff),p=min(VARselect(na.omit(data.diff),lag.max=10,type=\"none\")$selection))\n",
    "\n",
    "causality(model.var,cause=\"debt\")\n",
    "\n",
    "causality(model.var,cause=\"gdp\") "
   ]
  },
  {
   "cell_type": "markdown",
   "id": "eee1d694",
   "metadata": {},
   "source": [
    "Both in the case of the study of the influence of debt on development and of development on debt, the p-value was less than 0.05 (the value is based on a 5% significance level), which indicates a two-way causality. The assumptions of the null hypothesis (marked in yellow in the above report), which say about the lack of causality of variables, are rejected.\n",
    "There is a feedback loop between the dynamics of development and changes in debt. This means that both changes in debt affect the dynamics of development, and the dynamics of development affect changes in the level of debt.\n",
    "Additionally, an analysis of the impact of the dynamics of the budget deficit on economic growth was also carried out.\n",
    "\n",
    "When examining the impact of the dynamics of the budget deficit on the dynamics of development and vice versa, the value of the p coefficient in both cases was above 0.05 (the value of the 5% significance level). This allows for the assumptions of null hypotheses that there are no two-way causality between the examined indicators.\n",
    "The existence of a feedback loop between the dynamics of changes in the deficit and changes in development has not been proven. This means that both changes in the size of the deficit do not affect the dynamics of economic development, and the dynamics of economic development do not affect changes in the size of the deficit."
   ]
  },
  {
   "cell_type": "markdown",
   "id": "eca1a3fe",
   "metadata": {},
   "source": [
    "### Impulse response functions\n",
    "\n",
    "When examining the impact of the dynamics of the budget deficit on the dynamics of development and vice versa, the value of the p coefficient in both cases was above 0.05 (the value of the 5% significance level). This allows for the assumptions of null hypotheses that there are no two-way causality between the examined indicators.\n",
    "The existence of a feedback loop between the dynamics of changes in the deficit and changes in development has not been proven. This means that both changes in the size of the deficit do not affect the dynamics of economic development, and the dynamics of economic development do not affect changes in the size of the deficit."
   ]
  },
  {
   "cell_type": "code",
   "execution_count": 25,
   "id": "73db0617",
   "metadata": {},
   "outputs": [
    {
     "data": {
      "image/png": "[encoded data removed]",
      "text/plain": [
       "plot without title"
      ]
     },
     "metadata": {},
     "output_type": "display_data"
    },
    {
     "data": {
      "image/png": "[encoded data removed]",
      "text/plain": [
       "plot without title"
      ]
     },
     "metadata": {},
     "output_type": "display_data"
    }
   ],
   "source": [
    "plot(irf(model.var, impulse = \"debt\", response = c(\"gdp\"), boot =TRUE))\n",
    "\n",
    "plot(irf(model.var, impulse = \"gdp\", response = c(\"debt\"), boot =TRUE))"
   ]
  },
  {
   "cell_type": "markdown",
   "id": "ce2b6795",
   "metadata": {},
   "source": [
    "### Interpretation:\n",
    "The dynamics of debt growth has a two-way influence on the dynamics of economic development. The higher the debt dynamics, the lower the economic development dynamics, and vice versa.\n",
    "\n",
    "Ultimately, it can be concluded that the long-term high level of public debt has no impact on Japan's economic growth, which disproves the assumption. Possible causes of the country's economic stagnation lasting almost three decades should be looked for elsewhere. Perhaps the low economic growth trap is caused by capital outflows, recurring deflation that will effectively encourage people to put off current consumption and investments, or the lack of adequate restructuring of the banking sector after the Japanese crisis of the 1990s. There are several possible options, but in my opinion, in this particular case, the extremely high debt should not be blamed for the sustained slow pace of economic growth in the country."
   ]
  }
 ],
 "metadata": {
  "kernelspec": {
   "display_name": "R",
   "language": "R",
   "name": "ir"
  },
  "language_info": {
   "codemirror_mode": "r",
   "file_extension": ".r",
   "mimetype": "text/x-r-source",
   "name": "R",
   "pygments_lexer": "r",
   "version": "3.6.1"
  }
 },
 "nbformat": 4,
 "nbformat_minor": 5
}
