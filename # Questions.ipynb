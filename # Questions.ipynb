# Questions

do 1,2,3